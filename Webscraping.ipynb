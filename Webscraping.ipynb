{
 "cells": [
  {
   "cell_type": "code",
   "execution_count": 1,
   "metadata": {},
   "outputs": [],
   "source": [
    "from urllib.request import urlopen\n",
    "import urllib\n",
    "import urllib.request\n",
    "import glob\n",
    "import bs4\n",
    "from bs4 import BeautifulSoup\n",
    "import re\n",
    "import bisect\n",
    "import numpy as np"
   ]
  },
  {
   "cell_type": "code",
   "execution_count": 2,
   "metadata": {},
   "outputs": [],
   "source": [
    "def get_soup_object(url):\n",
    "    \"\"\" given url, apply suitable user agent, get html, and then return beautifulsoup of that html\"\"\"\n",
    "    \n",
    "    url=url\n",
    "    user_agent = 'Mozilla/5.0 (Windows NT 6.1) AppleWebKit/537.36 (KHTML, like Gecko) Chrome/41.0.2228.0 Safari/537.3'\n",
    "    headers={'User-Agent':user_agent} \n",
    "    \n",
    "    request=urllib.request.Request(url=url, headers=headers)\n",
    "    html=urlopen(request)\n",
    "    bs=BeautifulSoup(html)\n",
    "    \n",
    "    return bs"
   ]
  },
  {
   "cell_type": "code",
   "execution_count": 3,
   "metadata": {},
   "outputs": [],
   "source": [
    "def get_individual_artpiece_links(url):\n",
    "    \"\"\" go through the list of artworks, and then return the links of each art piece. \"\"\"\n",
    "    a_tags=get_soup_object(url)\n",
    "    \n",
    "    a_tags=a_tags.find_all(\"a\")\n",
    "    links=[]\n",
    "    \n",
    "    for a in a_tags:\n",
    "        href=a.get('href')\n",
    "        if type(href)==type(\"string\"):\n",
    "            if \"http\" in href:\n",
    "                if \"item\" in href:\n",
    "                    links.append(href)\n",
    "    return list(set(links))"
   ]
  },
  {
   "cell_type": "code",
   "execution_count": 4,
   "metadata": {},
   "outputs": [],
   "source": [
    "def get_picture_link(url):\n",
    "    \"\"\"access the download option, then return a link of jpeg image that has the largest size.\"\"\"\n",
    "    download_soup=get_soup_object(url)\n",
    "    \n",
    "    download_options=download_soup.find_all(\"select\", {\"class\":\"select-default\", \"id\":\"select-resource0\"})\n",
    "        \n",
    "    if len(download_options)==0:\n",
    "        print(\"download option not found\")\n",
    "    else:\n",
    "        \n",
    "        \n",
    "        option=download_options[0].find_all(\"option\")\n",
    "\n",
    "        if len(option)==0:\n",
    "            print(\" jpg option not found\")\n",
    "        else:\n",
    "            store={}\n",
    "            store[\"value\"]=[]\n",
    "            store[\"numb\"]=[]\n",
    "            store[\"byte_type\"]=[]\n",
    "            store[\"raw_byte\"]=[]\n",
    "\n",
    "            for o in option:\n",
    "                if o.get(\"data-file-download\")==\"JPEG\":\n",
    "\n",
    "                    pic=o.get(\"value\")\n",
    "                    numb=str(o).split(\"\\xa0\")[-2][1:]\n",
    "                    byte_type=str(o).split(\"\\xa0\")[-1][:2]\n",
    "\n",
    "                    store[\"value\"].append(pic)\n",
    "                    store[\"numb\"].append(numb)\n",
    "                    store[\"byte_type\"].append(byte_type)\n",
    "\n",
    "                    if byte_type==\"KB\":\n",
    "                        store[\"raw_byte\"].append(float(numb)*1024)\n",
    "                    elif byte_type==\"MB\":\n",
    "                        store[\"raw_byte\"].append(float(numb)*1024**2)\n",
    "                    else:\n",
    "                        print(\"type not recognized: \",byte_type)\n",
    "                        \n",
    "            \n",
    "            argsort=np.argsort(store[\"raw_byte\"])\n",
    "            new_store_raw_byte=np.array(store[\"raw_byte\"])[argsort]\n",
    "            new_store_value=np.array(store[\"value\"])[argsort]\n",
    "            maxval=np.max(new_store_raw_byte)\n",
    "            \n",
    "            ind=bisect.bisect_left(new_store_raw_byte,maxval)\n",
    "            link=new_store_value[ind]\n",
    "            return link\n"
   ]
  },
  {
   "cell_type": "code",
   "execution_count": 5,
   "metadata": {},
   "outputs": [],
   "source": [
    "def download_picture(url, directory, name):\n",
    "    \"\"\"download an image from a link\"\"\"\n",
    "    \n",
    "    user_agent = 'Mozilla/5.0 (Windows NT 6.1) AppleWebKit/537.36 (KHTML, like Gecko) Chrome/41.0.2228.0 Safari/537.3'\n",
    "    headers={'User-Agent':user_agent} \n",
    "\n",
    "    opener = urllib.request.build_opener()\n",
    "    opener.addheaders=[('User-agent',user_agent)]\n",
    "    urllib.request.install_opener(opener)\n",
    "    urllib.request.urlretrieve(url, \".\\\\data\\\\Japanese\\\\%s\\\\%s.jpg\" % (directory,name))"
   ]
  },
  {
   "cell_type": "markdown",
   "metadata": {},
   "source": [
    "## Download Japanese painting"
   ]
  },
  {
   "cell_type": "code",
   "execution_count": 6,
   "metadata": {},
   "outputs": [
    {
     "name": "stdout",
     "output_type": "stream",
     "text": [
      "download option not found\n",
      "error in page:  18\n"
     ]
    }
   ],
   "source": [
    "#assert False  # prevent accidental run\n",
    "number_of_images=2662\n",
    "images_per_page=100\n",
    "if number_of_images%images_per_page==0:\n",
    "    number_of_pages=number_of_images//images_per_page\n",
    "    last_page_empty=True\n",
    "elif number_of_images%images_per_page>0:\n",
    "    number_of_pages=number_of_images//images_per_page\n",
    "    last_page_empty=False\n",
    "\n",
    "for i in range(0,number_of_pages+1): # page 1 to past second page\n",
    "    try:\n",
    "        page=i+1\n",
    "        url1=\"https://www.loc.gov/collections/japanese-fine-prints-pre-1915/\"\n",
    "        url2=\"/?c=%s&sp=%s&st=list\" % (images_per_page, page)\n",
    "        url=url1+url2\n",
    "\n",
    "        artpiece_links=get_individual_artpiece_links(url)\n",
    "\n",
    "\n",
    "        for e,j in enumerate(artpiece_links):\n",
    "            picture_link=get_picture_link(j)\n",
    "            name=i*images_per_page+e\n",
    "            download_picture(picture_link, \"trainB\" ,str(name))\n",
    "    except:\n",
    "        print(\"error in page: \", page)\n",
    "    "
   ]
  },
  {
   "cell_type": "markdown",
   "metadata": {},
   "source": [
    "## Download Japanese American Internment"
   ]
  },
  {
   "cell_type": "code",
   "execution_count": 21,
   "metadata": {},
   "outputs": [],
   "source": [
    "#assert False  # prevent accidental run\n",
    "number_of_images=258\n",
    "images_per_page=25\n",
    "if number_of_images%images_per_page==0:\n",
    "    number_of_pages=number_of_images//images_per_page\n",
    "    last_page_empty=True\n",
    "elif number_of_images%images_per_page>0:\n",
    "    number_of_pages=number_of_images//images_per_page\n",
    "    last_page_empty=False\n",
    "\n",
    "for i in range(0,number_of_pages+1): # page 1 to past second page\n",
    "    try:\n",
    "        page=i+1\n",
    "        url1=\"https://www.loc.gov/collections/ansel-adams-manzanar/\"\n",
    "        url2=\"/?c=%s&sp=%s&st=list\" % (images_per_page, page)\n",
    "        url=url1+url2\n",
    "\n",
    "        artpiece_links=get_individual_artpiece_links(url)\n",
    "\n",
    "\n",
    "        for e,j in enumerate(artpiece_links):\n",
    "            picture_link=get_picture_link(j)\n",
    "            name=i*images_per_page+e\n",
    "            download_picture(picture_link, \"trainA\" ,str(name))\n",
    "    except:\n",
    "        print(\"error in page: \", page)\n",
    "    "
   ]
  },
  {
   "cell_type": "code",
   "execution_count": 7,
   "metadata": {},
   "outputs": [
    {
     "data": {
      "text/plain": [
       "10"
      ]
     },
     "execution_count": 7,
     "metadata": {},
     "output_type": "execute_result"
    }
   ],
   "source": [
    "258//25"
   ]
  },
  {
   "cell_type": "markdown",
   "metadata": {},
   "source": [
    "## Download Federal Web Archive"
   ]
  },
  {
   "cell_type": "code",
   "execution_count": 9,
   "metadata": {},
   "outputs": [
    {
     "name": "stdout",
     "output_type": "stream",
     "text": [
      "download option not found\n",
      "error in page:  1\n",
      "download option not found\n",
      "error in page:  2\n",
      "download option not found\n",
      "error in page:  3\n",
      "error in page:  4\n",
      "download option not found\n",
      "error in page:  5\n",
      "download option not found\n",
      "error in page:  6\n",
      "error in page:  7\n",
      "error in page:  8\n",
      "error in page:  9\n"
     ]
    }
   ],
   "source": [
    "#assert False  # prevent accidental run\n",
    "number_of_images=207\n",
    "images_per_page=25\n",
    "if number_of_images%images_per_page==0:\n",
    "    number_of_pages=number_of_images//images_per_page\n",
    "    last_page_empty=True\n",
    "elif number_of_images%images_per_page>0:\n",
    "    number_of_pages=number_of_images//images_per_page\n",
    "    last_page_empty=False\n",
    "\n",
    "for i in range(0,number_of_pages+1): # page 1 to past second page\n",
    "    try:\n",
    "        page=i+1\n",
    "        url1=\"https://www.loc.gov/collections/federal-courts-web-archive/\"\n",
    "        url2=\"/?c=%s&sp=%s&st=list\" % (images_per_page, page)\n",
    "        url=url1+url2\n",
    "\n",
    "        artpiece_links=get_individual_artpiece_links(url)\n",
    "\n",
    "\n",
    "        for e,j in enumerate(artpiece_links):\n",
    "            picture_link=get_picture_link(j)\n",
    "            name=i*images_per_page+e\n",
    "            download_picture(picture_link, \"trainA\" ,str(name))\n",
    "    except:\n",
    "        print(\"error in page: \", page)\n",
    "    "
   ]
  },
  {
   "cell_type": "code",
   "execution_count": null,
   "metadata": {},
   "outputs": [],
   "source": []
  }
 ],
 "metadata": {
  "kernelspec": {
   "display_name": "Python 3",
   "language": "python",
   "name": "python3"
  },
  "language_info": {
   "codemirror_mode": {
    "name": "ipython",
    "version": 3
   },
   "file_extension": ".py",
   "mimetype": "text/x-python",
   "name": "python",
   "nbconvert_exporter": "python",
   "pygments_lexer": "ipython3",
   "version": "3.7.3"
  }
 },
 "nbformat": 4,
 "nbformat_minor": 2
}
