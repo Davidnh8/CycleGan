{
 "cells": [
  {
   "cell_type": "code",
   "execution_count": 1,
   "metadata": {},
   "outputs": [],
   "source": [
    "from urllib.request import urlopen\n",
    "import urllib\n",
    "import urllib.request\n",
    "import glob\n",
    "import bs4\n",
    "from bs4 import BeautifulSoup\n",
    "import re\n",
    "import bisect"
   ]
  },
  {
   "cell_type": "code",
   "execution_count": 2,
   "metadata": {},
   "outputs": [],
   "source": [
    "def get_soup_object(url):\n",
    "    \"\"\" given url, apply suitable user agent, get html, and then return beautifulsoup of that html\"\"\"\n",
    "    \n",
    "    url=url\n",
    "    user_agent = 'Mozilla/5.0 (Windows NT 6.1) AppleWebKit/537.36 (KHTML, like Gecko) Chrome/41.0.2228.0 Safari/537.3'\n",
    "    headers={'User-Agent':user_agent} \n",
    "    \n",
    "    request=urllib.request.Request(url=url, headers=headers)\n",
    "    html=urlopen(request)\n",
    "    bs=BeautifulSoup(html)\n",
    "    \n",
    "    return bs"
   ]
  },
  {
   "cell_type": "code",
   "execution_count": 3,
   "metadata": {},
   "outputs": [],
   "source": [
    "def get_individual_artpiece_links(url):\n",
    "    \"\"\" go through the list of artworks, and then return the links of each art piece. \"\"\"\n",
    "    a_tags=get_soup_object(url)\n",
    "    \n",
    "    a_tags=a_tags.find_all(\"a\")\n",
    "    links=[]\n",
    "    \n",
    "    for a in a_tags:\n",
    "        href=a.get('href')\n",
    "        if type(href)==type(\"string\"):\n",
    "            if \"http\" in href:\n",
    "                if \"item\" in href:\n",
    "                    links.append(href)\n",
    "    return list(set(links))"
   ]
  },
  {
   "cell_type": "code",
   "execution_count": 13,
   "metadata": {},
   "outputs": [],
   "source": [
    "def get_picture_link(url):\n",
    "    \"\"\"access the download option, then return a link of jpeg image that has the largest size.\"\"\"\n",
    "    download_soup=get_soup_object(url)\n",
    "    \n",
    "    #download_options=download_soup.find_all(\"select\", {\"class\":\"select-default\", \"id\":\"select-resource1\"})\n",
    "    #if len(download_options)==0:\n",
    "    download_options=download_soup.find_all(\"select\", {\"class\":\"select-default\", \"id\":\"select-resource0\"})\n",
    "        \n",
    "    if len(download_options)==0:\n",
    "        print(\"download option not found\")\n",
    "    else:\n",
    "        option=download_options[0].find_all(\"option\")\n",
    "\n",
    "        if len(option)==0:\n",
    "            print(\" option not found\")\n",
    "        else:\n",
    "            store={}\n",
    "            store[\"value\"]=[]\n",
    "            store[\"numb\"]=[]\n",
    "            store[\"byte_type\"]=[]\n",
    "            store[\"raw_byte\"]=[]\n",
    "\n",
    "            for o in option:\n",
    "                if o.get(\"data-file-download\")==\"JPEG\":\n",
    "\n",
    "                    pic=o.get(\"value\")\n",
    "                    numb=str(o).split(\"\\xa0\")[-2][1:]\n",
    "                    byte_type=str(o).split(\"\\xa0\")[-1][:2]\n",
    "\n",
    "                    store[\"value\"].append(pic)\n",
    "                    store[\"numb\"].append(numb)\n",
    "                    store[\"byte_type\"].append(byte_type)\n",
    "\n",
    "                    if byte_type==\"KB\":\n",
    "                        store[\"raw_byte\"].append(float(numb)*1024)\n",
    "                    elif byte_type==\"MB\":\n",
    "                        store[\"raw_byte\"].append(float(numb)*1024**2)\n",
    "                    else:\n",
    "                        print(\"type not recognized: \",byte_type)\n",
    "\n",
    "            ind=bisect.bisect_left(store[\"raw_byte\"],max(store['raw_byte']))\n",
    "            link=store[\"value\"][ind]\n",
    "            return link\n"
   ]
  },
  {
   "cell_type": "code",
   "execution_count": 14,
   "metadata": {},
   "outputs": [],
   "source": [
    "def download_picture(url, directory, name):\n",
    "    \"\"\"download an image from a link\"\"\"\n",
    "    \n",
    "    user_agent = 'Mozilla/5.0 (Windows NT 6.1) AppleWebKit/537.36 (KHTML, like Gecko) Chrome/41.0.2228.0 Safari/537.3'\n",
    "    headers={'User-Agent':user_agent} \n",
    "\n",
    "    opener = urllib.request.build_opener()\n",
    "    opener.addheaders=[('User-agent',user_agent)]\n",
    "    urllib.request.install_opener(opener)\n",
    "    urllib.request.urlretrieve(url, \".\\\\data\\\\Japanese\\\\%s\\\\%s.jpg\" % (directory,name))"
   ]
  },
  {
   "cell_type": "markdown",
   "metadata": {},
   "source": [
    "## Download Japanese painting"
   ]
  },
  {
   "cell_type": "code",
   "execution_count": 15,
   "metadata": {},
   "outputs": [
    {
     "name": "stdout",
     "output_type": "stream",
     "text": [
      "download option not found\n"
     ]
    },
    {
     "ename": "TypeError",
     "evalue": "expected string or bytes-like object",
     "output_type": "error",
     "traceback": [
      "\u001b[1;31m---------------------------------------------------------------------------\u001b[0m",
      "\u001b[1;31mTypeError\u001b[0m                                 Traceback (most recent call last)",
      "\u001b[1;32m<ipython-input-15-b6ea9988f0e8>\u001b[0m in \u001b[0;36m<module>\u001b[1;34m\u001b[0m\n\u001b[0;32m     19\u001b[0m         \u001b[0mpicture_link\u001b[0m\u001b[1;33m=\u001b[0m\u001b[0mget_picture_link\u001b[0m\u001b[1;33m(\u001b[0m\u001b[0mj\u001b[0m\u001b[1;33m)\u001b[0m\u001b[1;33m\u001b[0m\u001b[1;33m\u001b[0m\u001b[0m\n\u001b[0;32m     20\u001b[0m         \u001b[0mname\u001b[0m\u001b[1;33m=\u001b[0m\u001b[0mi\u001b[0m\u001b[1;33m*\u001b[0m\u001b[0mimages_per_page\u001b[0m\u001b[1;33m+\u001b[0m\u001b[0me\u001b[0m\u001b[1;33m\u001b[0m\u001b[1;33m\u001b[0m\u001b[0m\n\u001b[1;32m---> 21\u001b[1;33m         \u001b[0mdownload_picture\u001b[0m\u001b[1;33m(\u001b[0m\u001b[0mpicture_link\u001b[0m\u001b[1;33m,\u001b[0m \u001b[1;34m\"trainB\"\u001b[0m\u001b[1;33m,\u001b[0m \u001b[0mstr\u001b[0m\u001b[1;33m(\u001b[0m\u001b[0mname\u001b[0m\u001b[1;33m)\u001b[0m\u001b[1;33m)\u001b[0m\u001b[1;33m\u001b[0m\u001b[1;33m\u001b[0m\u001b[0m\n\u001b[0m",
      "\u001b[1;32m<ipython-input-14-517919dc3735>\u001b[0m in \u001b[0;36mdownload_picture\u001b[1;34m(url, directory, name)\u001b[0m\n\u001b[0;32m      8\u001b[0m     \u001b[0mopener\u001b[0m\u001b[1;33m.\u001b[0m\u001b[0maddheaders\u001b[0m\u001b[1;33m=\u001b[0m\u001b[1;33m[\u001b[0m\u001b[1;33m(\u001b[0m\u001b[1;34m'User-agent'\u001b[0m\u001b[1;33m,\u001b[0m\u001b[0muser_agent\u001b[0m\u001b[1;33m)\u001b[0m\u001b[1;33m]\u001b[0m\u001b[1;33m\u001b[0m\u001b[1;33m\u001b[0m\u001b[0m\n\u001b[0;32m      9\u001b[0m     \u001b[0murllib\u001b[0m\u001b[1;33m.\u001b[0m\u001b[0mrequest\u001b[0m\u001b[1;33m.\u001b[0m\u001b[0minstall_opener\u001b[0m\u001b[1;33m(\u001b[0m\u001b[0mopener\u001b[0m\u001b[1;33m)\u001b[0m\u001b[1;33m\u001b[0m\u001b[1;33m\u001b[0m\u001b[0m\n\u001b[1;32m---> 10\u001b[1;33m     \u001b[0murllib\u001b[0m\u001b[1;33m.\u001b[0m\u001b[0mrequest\u001b[0m\u001b[1;33m.\u001b[0m\u001b[0murlretrieve\u001b[0m\u001b[1;33m(\u001b[0m\u001b[0murl\u001b[0m\u001b[1;33m,\u001b[0m \u001b[1;34m\".\\\\data\\\\Japanese\\\\%s\\\\%s.jpg\"\u001b[0m \u001b[1;33m%\u001b[0m \u001b[1;33m(\u001b[0m\u001b[0mdirectory\u001b[0m\u001b[1;33m,\u001b[0m\u001b[0mname\u001b[0m\u001b[1;33m)\u001b[0m\u001b[1;33m)\u001b[0m\u001b[1;33m\u001b[0m\u001b[1;33m\u001b[0m\u001b[0m\n\u001b[0m",
      "\u001b[1;32m~\\Anaconda3\\lib\\urllib\\request.py\u001b[0m in \u001b[0;36murlretrieve\u001b[1;34m(url, filename, reporthook, data)\u001b[0m\n\u001b[0;32m    243\u001b[0m     \u001b[0mdata\u001b[0m \u001b[0mfile\u001b[0m \u001b[1;32mas\u001b[0m \u001b[0mwell\u001b[0m \u001b[1;32mas\u001b[0m \u001b[0mthe\u001b[0m \u001b[0mresulting\u001b[0m \u001b[0mHTTPMessage\u001b[0m \u001b[0mobject\u001b[0m\u001b[1;33m.\u001b[0m\u001b[1;33m\u001b[0m\u001b[1;33m\u001b[0m\u001b[0m\n\u001b[0;32m    244\u001b[0m     \"\"\"\n\u001b[1;32m--> 245\u001b[1;33m     \u001b[0murl_type\u001b[0m\u001b[1;33m,\u001b[0m \u001b[0mpath\u001b[0m \u001b[1;33m=\u001b[0m \u001b[0msplittype\u001b[0m\u001b[1;33m(\u001b[0m\u001b[0murl\u001b[0m\u001b[1;33m)\u001b[0m\u001b[1;33m\u001b[0m\u001b[1;33m\u001b[0m\u001b[0m\n\u001b[0m\u001b[0;32m    246\u001b[0m \u001b[1;33m\u001b[0m\u001b[0m\n\u001b[0;32m    247\u001b[0m     \u001b[1;32mwith\u001b[0m \u001b[0mcontextlib\u001b[0m\u001b[1;33m.\u001b[0m\u001b[0mclosing\u001b[0m\u001b[1;33m(\u001b[0m\u001b[0murlopen\u001b[0m\u001b[1;33m(\u001b[0m\u001b[0murl\u001b[0m\u001b[1;33m,\u001b[0m \u001b[0mdata\u001b[0m\u001b[1;33m)\u001b[0m\u001b[1;33m)\u001b[0m \u001b[1;32mas\u001b[0m \u001b[0mfp\u001b[0m\u001b[1;33m:\u001b[0m\u001b[1;33m\u001b[0m\u001b[1;33m\u001b[0m\u001b[0m\n",
      "\u001b[1;32m~\\Anaconda3\\lib\\urllib\\parse.py\u001b[0m in \u001b[0;36msplittype\u001b[1;34m(url)\u001b[0m\n\u001b[0;32m    971\u001b[0m         \u001b[0m_typeprog\u001b[0m \u001b[1;33m=\u001b[0m \u001b[0mre\u001b[0m\u001b[1;33m.\u001b[0m\u001b[0mcompile\u001b[0m\u001b[1;33m(\u001b[0m\u001b[1;34m'([^/:]+):(.*)'\u001b[0m\u001b[1;33m,\u001b[0m \u001b[0mre\u001b[0m\u001b[1;33m.\u001b[0m\u001b[0mDOTALL\u001b[0m\u001b[1;33m)\u001b[0m\u001b[1;33m\u001b[0m\u001b[1;33m\u001b[0m\u001b[0m\n\u001b[0;32m    972\u001b[0m \u001b[1;33m\u001b[0m\u001b[0m\n\u001b[1;32m--> 973\u001b[1;33m     \u001b[0mmatch\u001b[0m \u001b[1;33m=\u001b[0m \u001b[0m_typeprog\u001b[0m\u001b[1;33m.\u001b[0m\u001b[0mmatch\u001b[0m\u001b[1;33m(\u001b[0m\u001b[0murl\u001b[0m\u001b[1;33m)\u001b[0m\u001b[1;33m\u001b[0m\u001b[1;33m\u001b[0m\u001b[0m\n\u001b[0m\u001b[0;32m    974\u001b[0m     \u001b[1;32mif\u001b[0m \u001b[0mmatch\u001b[0m\u001b[1;33m:\u001b[0m\u001b[1;33m\u001b[0m\u001b[1;33m\u001b[0m\u001b[0m\n\u001b[0;32m    975\u001b[0m         \u001b[0mscheme\u001b[0m\u001b[1;33m,\u001b[0m \u001b[0mdata\u001b[0m \u001b[1;33m=\u001b[0m \u001b[0mmatch\u001b[0m\u001b[1;33m.\u001b[0m\u001b[0mgroups\u001b[0m\u001b[1;33m(\u001b[0m\u001b[1;33m)\u001b[0m\u001b[1;33m\u001b[0m\u001b[1;33m\u001b[0m\u001b[0m\n",
      "\u001b[1;31mTypeError\u001b[0m: expected string or bytes-like object"
     ]
    }
   ],
   "source": [
    "#assert False  # prevent accidental run\n",
    "\n",
    "number_of_images=2662\n",
    "images_per_page=100\n",
    "number_of_pages=number_of_images//images_per_page\n",
    "\n",
    "for i in range(17,number_of_pages+1): # page 15 to past second page\n",
    "    url1=\"https://www.loc.gov/collections/japanese-fine-prints-pre-1915/\"\n",
    "    url2=\"/?c=%s&sp=%s&st=list\" % (images_per_page, i)\n",
    "    url=url1+url2\n",
    "    artpiece_links=get_individual_artpiece_links(url)\n",
    "    \n",
    "    try:\n",
    "        assert len(artpiece_links)==images_per_page\n",
    "    except:\n",
    "        print(\"ERROR\", len(artpiece_links))\n",
    "    \n",
    "    for e,j in enumerate(artpiece_links):\n",
    "        picture_link=get_picture_link(j)\n",
    "        name=i*images_per_page+e\n",
    "        download_picture(picture_link, \"trainB\", str(name))\n"
   ]
  },
  {
   "cell_type": "markdown",
   "metadata": {},
   "source": [
    "## Download Japanese American Internment"
   ]
  },
  {
   "cell_type": "code",
   "execution_count": null,
   "metadata": {},
   "outputs": [],
   "source": [
    "#assert False  # prevent accidental run\n",
    "number_of_images=258\n",
    "images_per_page=25\n",
    "number_of_pages=number_of_images//images_per_page\n",
    "number_of_pages\n",
    "\n",
    "for i in range(1,number_of_pages+1): # page 1 to past second page\n",
    "    url1=\"https://www.loc.gov/collections/ansel-adams-manzanar/\"\n",
    "    url2=\"/?c=%s&sp=%s&st=list\" % (images_per_page, i)\n",
    "    url=url1+url2\n",
    "    artpiece_links=get_individual_artpiece_links(url)\n",
    "    \n",
    "    try:\n",
    "        assert len(artpiece_links)==images_per_page\n",
    "    except:\n",
    "        print(\"ERROR\", len(artpiece_links))\n",
    "    \n",
    "    for e,j in enumerate(artpiece_links):\n",
    "        picture_link=get_picture_link(j)\n",
    "        name=i*images_per_page+e\n",
    "        download_picture(picture_link, \"trainA\" ,str(name))"
   ]
  },
  {
   "cell_type": "code",
   "execution_count": null,
   "metadata": {},
   "outputs": [],
   "source": []
  }
 ],
 "metadata": {
  "kernelspec": {
   "display_name": "Python 3",
   "language": "python",
   "name": "python3"
  },
  "language_info": {
   "codemirror_mode": {
    "name": "ipython",
    "version": 3
   },
   "file_extension": ".py",
   "mimetype": "text/x-python",
   "name": "python",
   "nbconvert_exporter": "python",
   "pygments_lexer": "ipython3",
   "version": "3.7.3"
  }
 },
 "nbformat": 4,
 "nbformat_minor": 2
}
